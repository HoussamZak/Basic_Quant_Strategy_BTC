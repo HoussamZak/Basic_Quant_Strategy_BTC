{
 "cells": [
  {
   "cell_type": "markdown",
   "metadata": {},
   "source": [
    "Order Book Query, Sorting & Preparing."
   ]
  },
  {
   "cell_type": "code",
   "execution_count": 1,
   "metadata": {},
   "outputs": [
    {
     "name": "stdout",
     "output_type": "stream",
     "text": [
      "Requirement already satisfied: websocket-client in c:\\users\\fluffy\\appdata\\local\\programs\\pythoncodingpack\\lib\\site-packages (1.3.2)\n",
      "Note: you may need to restart the kernel to use updated packages.\n"
     ]
    },
    {
     "name": "stderr",
     "output_type": "stream",
     "text": [
      "WARNING: You are using pip version 21.3.1; however, version 22.0.4 is available.\n",
      "You should consider upgrading via the 'c:\\Users\\Fluffy\\AppData\\Local\\Programs\\PythonCodingPack\\python.exe -m pip install --upgrade pip' command.\n"
     ]
    }
   ],
   "source": [
    "pip install websocket-client"
   ]
  },
  {
   "cell_type": "code",
   "execution_count": 2,
   "metadata": {},
   "outputs": [],
   "source": [
    "import copy\n",
    "import json\n",
    "import ssl\n",
    "import time\n",
    "import websocket"
   ]
  },
  {
   "cell_type": "code",
   "execution_count": 3,
   "metadata": {},
   "outputs": [],
   "source": [
    "class GeminiOrderBook(object):\n",
    "\n",
    "    def __init__(self):\n",
    "        self.bids = {}\n",
    "        self.asks = {}\n",
    "        self.bids_sorted = []\n",
    "        self.asks_sorted = []\n",
    "\n",
    "    def insert(self, price, remaining, side):\n",
    "        if side == 'bid':\n",
    "            if remaining == 0:\n",
    "                if price in self.bids:\n",
    "                    del self.bids[price]\n",
    "            else:\n",
    "                self.bids[price] = remaining\n",
    "        elif side == 'ask':\n",
    "            if remaining == 0:\n",
    "                if price in self.asks:\n",
    "                    del self.asks[price]\n",
    "            else:\n",
    "                self.asks[price] = remaining\n",
    "        else:\n",
    "            print('WARNING : UNKNOWN SIDE {}'.format(side))\n",
    "    \n",
    "    def sort_bids_asks(self):\n",
    "        self.bids_sorted = sorted([(price, remaining) for price, remaining in self.bids.items()], reverse = True)\n",
    "        self.asks_sorted = sorted([(price, remaining) for price, remaining in self.asks.items()])\n",
    "\n",
    "        #TOP 5 BIDS & ASKS\n",
    "        self.bids_sorted = self.bids_sorted[: 5]\n",
    "        self.asks_sorted  = self.asks_sorted[:5]\n",
    "\n",
    "        self.bids = dict(self.bids_sorted)\n",
    "        self.asks = dict(self.asks_sorted)\n",
    "\n",
    "    def get_copy_bids_asks(self):\n",
    "        return copy.deepcopy(self.bids_sorted), copy.deepcopy(self.asks_sorted)"
   ]
  },
  {
   "cell_type": "markdown",
   "metadata": {},
   "source": [
    "Market Data Crawler:"
   ]
  },
  {
   "cell_type": "code",
   "execution_count": 5,
   "metadata": {},
   "outputs": [
    {
     "ename": "IndentationError",
     "evalue": "unexpected indent (Temp/ipykernel_9000/4249299012.py, line 8)",
     "output_type": "error",
     "traceback": [
      "\u001b[1;36m  File \u001b[1;32m\"C:\\Users\\Fluffy\\AppData\\Local\\Temp/ipykernel_9000/4249299012.py\"\u001b[1;36m, line \u001b[1;32m8\u001b[0m\n\u001b[1;33m    on_message = lambda ws, message: self.on_message(message),\u001b[0m\n\u001b[1;37m    ^\u001b[0m\n\u001b[1;31mIndentationError\u001b[0m\u001b[1;31m:\u001b[0m unexpected indent\n"
     ]
    }
   ],
   "source": [
    "class MarketDataCrawler:\n",
    "    def __init__(self, symbol, output_file):\n",
    "        self.orderbook = GeminiOrderBook()\n",
    "        self.output_file = output_file\n",
    "        print(\"Connect Gemini\")\n",
    "\n",
    "        self.ws = websocket.WebSocketApp('wss://api.gemini.com/v1/marketdata/{}'.format(symbol)),\n",
    "                                          on_message = lambda ws, message: self.on_message(message),\n",
    "                                          on_error = lambda ws, error: self.on_error(ws, error)\n",
    "        print('Receiving Data BROOOOO')\n",
    "        while True:\n",
    "            try:\n",
    "                self.ws.run_forever(sslop={'cert_reqs': ssl.CERT_NONE})\n",
    "            except:\n",
    "                pass\n",
    "    def on_error(self, ws, error):\n",
    "        print(error)\n",
    "    def on_message(self, message):\n",
    "        data = json.loads(message)\n",
    "        for event in data['events']:\n",
    "            price, remaining, side = float(event['price']), float(event['remaining']), event['side']\n",
    "            self.orderbook.insert(price, remaining, side)\n",
    "        \n",
    "        self.orderbook.sort_bids_asks()\n",
    "        with open(self.output_file, 'a+') as f:\n",
    "            bids, asks = self.orderbook.get_copy_bids_asks()\n",
    "            output = {\n",
    "                'bids': bids,\n",
    "                'asks': asks,\n",
    "                'ts': int(time.time() * 1000)\n",
    "            }\n",
    "            f.write(json.dumps(output) + '\\n')\n",
    "if __name__ == '__main__':\n",
    "    crawler =  MarketDataCrawler(symbol = 'BTCUSD', output_file = 'ETH_Orderbook.txt')\n"
   ]
  }
 ],
 "metadata": {
  "interpreter": {
   "hash": "8691f65de227c2dd14ae9ac858e1fa0e22abdb1615ca6522899f00b2d15c28a2"
  },
  "kernelspec": {
   "display_name": "Python 3.8.5 64-bit",
   "language": "python",
   "name": "python3"
  },
  "language_info": {
   "codemirror_mode": {
    "name": "ipython",
    "version": 3
   },
   "file_extension": ".py",
   "mimetype": "text/x-python",
   "name": "python",
   "nbconvert_exporter": "python",
   "pygments_lexer": "ipython3",
   "version": "3.8.5"
  },
  "orig_nbformat": 4
 },
 "nbformat": 4,
 "nbformat_minor": 2
}
